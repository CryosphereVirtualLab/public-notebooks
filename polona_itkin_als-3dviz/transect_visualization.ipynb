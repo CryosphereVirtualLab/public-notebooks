{
 "cells": [
  {
   "cell_type": "markdown",
   "id": "dc6f7732",
   "metadata": {},
   "source": [
    "# ALS transect 3D visualization\n",
    "\n",
    "This notebook illustrates transect visualization using CVL 3D Viz software\n",
    "\n",
    "\n",
    "## Objectives\n",
    "\n",
    "Demonstrate visualization of X,Y,Z timeseries together with the Sentinel-1 image as background\n",
    "\n",
    "## Prerequisites\n",
    "\n",
    "Software prerequisites\n",
    "- pip3\n",
    "- cvl 3d viz library\n",
    "- requests\n",
    "\n",
    "System libraries not provided via CVL have been installed using conda/mamba package manager.\n",
    "\n",
    "Install CVL 3D viz library for steering the visualization in-browser app \n",
    "\n",
    "\n",
    "```\n",
    "# Use preceeding exclamation mark if installing from within the notebook, othewise add URL below to requirements file\n",
    "!pip3 install git+https://github.com/CryosphereVirtualLab/cvl-3d-viz#egg=cvl-3d-viz\n",
    "```\n"
   ]
  },
  {
   "cell_type": "code",
   "execution_count": 1,
   "id": "0cdde311",
   "metadata": {},
   "outputs": [
    {
     "name": "stdout",
     "output_type": "stream",
     "text": [
      "Collecting cvl-3d-viz\n",
      "  Cloning https://github.com/CryosphereVirtualLab/cvl-3d-viz to /tmp/pip-install-im071avl/cvl-3d-viz_76067c9ef0cb4bcea23d39dc42c6dcc7\n",
      "  Running command git clone --filter=blob:none --quiet https://github.com/CryosphereVirtualLab/cvl-3d-viz /tmp/pip-install-im071avl/cvl-3d-viz_76067c9ef0cb4bcea23d39dc42c6dcc7\n",
      "  Resolved https://github.com/CryosphereVirtualLab/cvl-3d-viz to commit a1b6166e7c2d2b15379c7598ef82ab497e97e4b9\n",
      "  Preparing metadata (setup.py) ... \u001b[?25ldone\n",
      "\u001b[?25hRequirement already satisfied: requests in /home/polona/mambaforge/lib/python3.10/site-packages (from cvl-3d-viz) (2.28.1)\n",
      "Requirement already satisfied: numpy in /home/polona/mambaforge/lib/python3.10/site-packages (from cvl-3d-viz) (1.24.1)\n",
      "Requirement already satisfied: gdal in /home/polona/mambaforge/lib/python3.10/site-packages (from cvl-3d-viz) (3.6.2)\n",
      "Requirement already satisfied: idna<4,>=2.5 in /home/polona/mambaforge/lib/python3.10/site-packages (from requests->cvl-3d-viz) (3.4)\n",
      "Requirement already satisfied: charset-normalizer<3,>=2 in /home/polona/mambaforge/lib/python3.10/site-packages (from requests->cvl-3d-viz) (2.1.1)\n",
      "Requirement already satisfied: urllib3<1.27,>=1.21.1 in /home/polona/mambaforge/lib/python3.10/site-packages (from requests->cvl-3d-viz) (1.26.13)\n",
      "Requirement already satisfied: certifi>=2017.4.17 in /home/polona/mambaforge/lib/python3.10/site-packages (from requests->cvl-3d-viz) (2022.12.7)\n"
     ]
    }
   ],
   "source": [
    "!pip3 install git+https://github.com/CryosphereVirtualLab/cvl-3d-viz#egg=cvl-3d-viz"
   ]
  },
  {
   "cell_type": "markdown",
   "id": "459ef70f",
   "metadata": {},
   "source": [
    "## Starting CVL 3d Viz server\n",
    "The server is necessary to communicate between the notebook and the browser application. The server needs to be available, configured and running locally.\n"
   ]
  },
  {
   "cell_type": "code",
   "execution_count": 2,
   "id": "cfab4c6d",
   "metadata": {},
   "outputs": [
    {
     "data": {
      "text/plain": [
       "<Popen: returncode: None args: 'cd ~/cvl-3d-viz && nohup python3 cvl/server....>"
      ]
     },
     "execution_count": 2,
     "metadata": {},
     "output_type": "execute_result"
    }
   ],
   "source": [
    "# Obtain server code\n",
    "# !if [ ! -d ~/cvl-3d-viz ]; then git clone https://github.com/CryosphereVirtualLab/cvl-3d-viz.git ~/cvl-3d-viz ; fi\n",
    "# import os\n",
    "import subprocess\n",
    "subprocess.Popen(\"cd ~/cvl-3d-viz && nohup python3 cvl/server.py > /dev/null 2>&1 &\", shell=True)"
   ]
  },
  {
   "cell_type": "code",
   "execution_count": 37,
   "id": "e76fb93f",
   "metadata": {},
   "outputs": [],
   "source": [
    "from cvl.viz import viz, VBO, Raster\n",
    "visualizer = viz()\n",
    "visualizer.look_at([70, 70, 5000], [1, 69.673, 0], 100)"
   ]
  },
  {
   "cell_type": "markdown",
   "id": "42de78b9",
   "metadata": {},
   "source": [
    "# Input data\n",
    "\n",
    "Data series come in tabular format and represent geographical coordinates and height. Data are hosted at Zenodo and need to be cached locally before executing the rest of the playbook. Additionally Sentinel-1 scenes are used as a background and those are added\n",
    "\n",
    "We will pull the data zip file using requests library and unpack it locally for further use."
   ]
  },
  {
   "cell_type": "code",
   "execution_count": 7,
   "id": "b946e3fb",
   "metadata": {},
   "outputs": [],
   "source": [
    "import zipfile, io, requests\n",
    "\n",
    "url = \"https://zenodo.org/record/7582591/files/MOSAiC_subset_for_CVL.zip?download=1\"\n",
    "r = requests.get(url)\n",
    "z = zipfile.ZipFile(io.BytesIO(r.content))\n",
    "z.extractall(\"data\")"
   ]
  },
  {
   "cell_type": "markdown",
   "id": "31931f5a",
   "metadata": {},
   "source": [
    "#  Load measurements as Geopandas DataFrame "
   ]
  },
  {
   "cell_type": "code",
   "execution_count": 33,
   "id": "65092457",
   "metadata": {},
   "outputs": [],
   "source": [
    "import pandas\n",
    "df = pandas.read_csv(\"data/transect_latlon.txt\", header=0)"
   ]
  },
  {
   "cell_type": "code",
   "execution_count": 83,
   "id": "1bfad75e",
   "metadata": {},
   "outputs": [
    {
     "name": "stdout",
     "output_type": "stream",
     "text": [
      "           Lon        Lat  ...  thickness                        geometry\n",
      "0     0.026922  79.999070  ...       10.0  POINT (212809.298 8918661.977)\n",
      "1     0.026860  79.999059  ...       10.0  POINT (212807.817 8918661.069)\n",
      "2     0.026831  79.999054  ...       10.0  POINT (212807.134 8918660.722)\n",
      "3     0.026780  79.999042  ...       10.0  POINT (212805.838 8918659.646)\n",
      "4     0.026731  79.999031  ...       10.0  POINT (212804.618 8918658.743)\n",
      "...        ...        ...  ...        ...                             ...\n",
      "1080  0.027273  79.999087  ...       10.0  POINT (212816.366 8918662.043)\n",
      "1081  0.027218  79.999089  ...       10.0  POINT (212815.406 8918662.615)\n",
      "1082  0.027187  79.999090  ...       10.0  POINT (212814.851 8918662.858)\n",
      "1083  0.026958  79.999105  ...       10.0  POINT (212810.968 8918665.564)\n",
      "1084  0.026871  79.999127  ...       10.0  POINT (212809.961 8918668.406)\n",
      "\n",
      "[1085 rows x 6 columns]\n",
      "212809.29842780228\n"
     ]
    }
   ],
   "source": [
    "import geopandas as gpd\n",
    "# Create a geometry aware Geopandas DataFrame object \n",
    "gdf = gpd.GeoDataFrame(\n",
    "    df, geometry=gpd.points_from_xy(df.Lon, df.Lat),\n",
    "    crs=4326\n",
    ").to_crs(32633)\n",
    "print(gdf.to_crs(32633))\n",
    "p0=gdf.geometry[0]\n",
    "\n",
    "print(p0.x)"
   ]
  },
  {
   "cell_type": "markdown",
   "id": "df9c1fa2",
   "metadata": {},
   "source": [
    "# Plot data using 3D Viz"
   ]
  },
  {
   "cell_type": "code",
   "execution_count": 44,
   "id": "803b31b1",
   "metadata": {},
   "outputs": [],
   "source": [
    "# This function was taken from the 3D Viz example notebook\n",
    "def post_3d_data(key, primitive, vertices, color=None, texcoord=None, normal=None, index=None, texture=None, compute_normals=False):\n",
    "    #metadata = { \"path\" : \"Examples\", \"time_start\" : time.time()-601, \"time_stop\" : time.time()-601 }\n",
    "    metadata = { \"path\" : \"Examples\" }\n",
    "    vbo = VBO(primitive, projection=32633)\n",
    "    vbo.compute_normals = compute_normals\n",
    "    vbo.set_vertex(vertices)\n",
    "    vbo.set_color(color)\n",
    "    vbo.set_texcoord(texcoord)\n",
    "    vbo.set_normal(normal)\n",
    "    vbo.set_index(index)\n",
    "    vbo.texture = texture\n",
    "    visualizer.publish_vbo(key, metadata, vbo)"
   ]
  },
  {
   "cell_type": "code",
   "execution_count": 88,
   "id": "b3802388",
   "metadata": {},
   "outputs": [],
   "source": [
    "# Synthetic data points plotting\n",
    "import numpy as np\n",
    "import math\n",
    "\n",
    "points = np.array([x for x in zip(gdf.geometry.x, gdf.geometry.y, gdf.thickness*100) ])\n",
    "colors = np.ones((points.shape[0],4), dtype=np.uint32) * (125, 135, 125, 10)\n",
    "vcolors = np.array([VBO.rgb_to_color(x[0], x[1], x[2], x[3]) for x in colors], dtype=np.uint32)\n",
    "\n",
    "# Post transect data as points to web app\n",
    "post_3d_data(\"Transect points\", \"points\", points, vcolors)\n"
   ]
  },
  {
   "cell_type": "markdown",
   "id": "96b78ee6",
   "metadata": {},
   "source": [
    "## Screenshot from 3D Viz with the result\n",
    "\n",
    "![title](./screenshot.png)"
   ]
  }
 ],
 "metadata": {
  "kernelspec": {
   "display_name": "Python 3 (ipykernel)",
   "language": "python",
   "name": "python3"
  },
  "language_info": {
   "codemirror_mode": {
    "name": "ipython",
    "version": 3
   },
   "file_extension": ".py",
   "mimetype": "text/x-python",
   "name": "python",
   "nbconvert_exporter": "python",
   "pygments_lexer": "ipython3",
   "version": "3.10.8"
  }
 },
 "nbformat": 4,
 "nbformat_minor": 5
}
