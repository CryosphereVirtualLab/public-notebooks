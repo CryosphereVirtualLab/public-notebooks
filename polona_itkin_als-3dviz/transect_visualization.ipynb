{
 "cells": [
  {
   "cell_type": "markdown",
   "id": "dc6f7732",
   "metadata": {},
   "source": [
    "# ALS transect 3D visualization\n",
    "\n",
    "This notebook illustrates transect visualization using CVL 3D Viz software\n",
    "\n",
    "\n",
    "## Objectives\n",
    "\n",
    "Demonstrate visualization of X,Y,Z timeseries together with the Sentinel-1 image as background\n",
    "\n",
    "## Prerequisites\n",
    "\n",
    "Software prerequisites\n",
    "- pip3\n",
    "- cvl 3d viz library\n",
    "- requests\n",
    "\n",
    "Install CVL 3D viz library for steering the visualization in-browser app \n",
    "\n",
    "\n",
    "```\n",
    "# Use preceeding exclamation mark if installing from within the notebook, othewise add URL below to requirements file\n",
    "!pip3 install git+https://github.com/CryosphereVirtualLab/cvl-3d-viz#egg=cvl-3d-viz\n",
    "```\n"
   ]
  },
  {
   "cell_type": "code",
   "execution_count": 4,
   "id": "e76fb93f",
   "metadata": {},
   "outputs": [],
   "source": [
    "import cvl"
   ]
  },
  {
   "cell_type": "markdown",
   "id": "42de78b9",
   "metadata": {},
   "source": [
    "# Input data\n",
    "\n",
    "Data series come in tabular format and represent geographical coordinates and height. Data are hosted at Zenodo and need to be cached locally before executing the rest of the playbook. Additionally Sentinel-1 scenes are used as a background and those are added "
   ]
  }
 ],
 "metadata": {
  "kernelspec": {
   "display_name": "Python 3 (ipykernel)",
   "language": "python",
   "name": "python3"
  },
  "language_info": {
   "codemirror_mode": {
    "name": "ipython",
    "version": 3
   },
   "file_extension": ".py",
   "mimetype": "text/x-python",
   "name": "python",
   "nbconvert_exporter": "python",
   "pygments_lexer": "ipython3",
   "version": "3.10.8"
  }
 },
 "nbformat": 4,
 "nbformat_minor": 5
}
