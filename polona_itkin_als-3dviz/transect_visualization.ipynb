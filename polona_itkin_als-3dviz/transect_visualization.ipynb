{
 "cells": [
  {
   "cell_type": "markdown",
   "id": "dc6f7732",
   "metadata": {},
   "source": [
    "# ALS transect 3D visualization\n",
    "\n",
    "This notebook illustrates transect visualization using CVL 3D Viz software\n",
    "\n",
    "\n",
    "## Objectives\n",
    "\n",
    "Demonstrate visualization of X,Y,Z timeseries together with the Sentinel-1 image as background\n",
    "\n",
    "## Prerequisites\n",
    "\n",
    "Software prerequisites\n",
    "- pip3\n",
    "- cvl 3d viz library\n",
    "- requests\n",
    "- pyresample\n",
    "- pandas\n",
    "- geopandas\n",
    "- pillow\n",
    "\n",
    "System libraries not provided via CVL have been installed using conda/mamba package manager.\n",
    "\n",
    "Install CVL 3D viz library for steering the visualization in-browser app \n",
    "\n",
    "\n",
    "```\n",
    "# Use preceeding exclamation mark if installing from within the notebook, othewise add URL below to requirements file\n",
    "!pip3 install git+https://github.com/CryosphereVirtualLab/cvl-3d-viz#egg=cvl-3d-viz\n",
    "```\n",
    "\n",
    "To access the visualizer open https://cvl.eo.esa.int/.\n"
   ]
  },
  {
   "cell_type": "code",
   "execution_count": 1,
   "id": "38f32934",
   "metadata": {},
   "outputs": [],
   "source": [
    "import numpy"
   ]
  },
  {
   "cell_type": "code",
   "execution_count": 2,
   "id": "ab789b68",
   "metadata": {},
   "outputs": [],
   "source": [
    "#!pip3 install git+https://github.com/CryosphereVirtualLab/cvl-3d-viz#egg=cvl-3d-viz > /dev/null 2>&1\n",
    "#!pip3 install pillow > /dev/null \n",
    "#!pip install pyresample > /dev/null 2>&1\n",
    "#!pip install pyproj"
   ]
  },
  {
   "cell_type": "markdown",
   "id": "459ef70f",
   "metadata": {},
   "source": [
    "## Starting CVL 3d Viz server\n",
    "The server is necessary to communicate between the notebook and the browser application. The server needs to be available, configured and running locally.\n"
   ]
  },
  {
   "cell_type": "code",
   "execution_count": 3,
   "id": "cfab4c6d",
   "metadata": {},
   "outputs": [],
   "source": [
    "# Obtain 3d viz server code\n",
    "!if [ ! -d ./cvl-3d-viz ]; then git clone https://github.com/CryosphereVirtualLab/cvl-3d-viz.git ./cvl-3d-viz ; fi\n",
    "\n",
    "# add cvl to path\n",
    "import os\n",
    "import sys\n",
    "sys.path.append(os.path.join(os.path.abspath(os.path.curdir),\"cvl-3d-viz\"))\n",
    "\n",
    "import subprocess"
   ]
  },
  {
   "cell_type": "markdown",
   "id": "bfc8906a",
   "metadata": {},
   "source": [
    "Generate new keys for SSL config"
   ]
  },
  {
   "cell_type": "code",
   "execution_count": 5,
   "id": "817f345e",
   "metadata": {},
   "outputs": [
    {
     "name": "stderr",
     "output_type": "stream",
     "text": [
      "Generating a RSA private key\n",
      ".......+++"
     ]
    },
    {
     "data": {
      "text/plain": [
       "<Popen: returncode: None args: 'openssl req -x509 -nodes -days 730 -newkey r...>"
      ]
     },
     "execution_count": 5,
     "metadata": {},
     "output_type": "execute_result"
    },
    {
     "name": "stderr",
     "output_type": "stream",
     "text": [
      "++\n",
      "..............................................+++++\n",
      "writing new private key to 'key.pem'\n",
      "-----\n"
     ]
    }
   ],
   "source": [
    "subprocess.Popen(\"openssl req -x509 -nodes -days 730 -newkey rsa:2048 -keyout key.pem -out cert.pem -config cvl-3d-viz/cvl/localhost-ssl.conf\", shell=True)"
   ]
  },
  {
   "cell_type": "markdown",
   "id": "6b5078c4",
   "metadata": {},
   "source": [
    "Start server"
   ]
  },
  {
   "cell_type": "code",
   "execution_count": 6,
   "id": "d75976f2",
   "metadata": {},
   "outputs": [
    {
     "data": {
      "text/plain": [
       "<Popen: returncode: None args: 'nohup python cvl-3d-viz/cvl/server.py > /dev...>"
      ]
     },
     "execution_count": 6,
     "metadata": {},
     "output_type": "execute_result"
    }
   ],
   "source": [
    "subprocess.Popen(\"nohup python cvl-3d-viz/cvl/server.py > /dev/null 2>&1 &\", shell=True)"
   ]
  },
  {
   "cell_type": "markdown",
   "id": "37835507",
   "metadata": {},
   "source": [
    "__INFO__: you might need to open and trust the following link: https://localhost:3193/trust"
   ]
  },
  {
   "cell_type": "code",
   "execution_count": 8,
   "id": "e76fb93f",
   "metadata": {},
   "outputs": [],
   "source": [
    "from cvl.viz import viz, VBO, Raster\n",
    "visualizer = viz()\n",
    "# visualizer.look_at([70, 70, 5000], [1, 69.673, 0], 100)"
   ]
  },
  {
   "cell_type": "markdown",
   "id": "42de78b9",
   "metadata": {},
   "source": [
    "# Input data\n",
    "\n",
    "Data series come in tabular format and represent geographical coordinates and height. Data are hosted at Zenodo and need to be cached locally before executing the rest of the playbook. Additionally Sentinel-1 scenes are used as a background and those are added\n",
    "\n",
    "We will pull the data zip file using requests library and unpack it locally for further use.\n",
    "\n",
    "*__NOTE__: Make sure the following is a code cell when running playbook. By default it is set to raw nbconvert format, so execution of the cell is skipped.*"
   ]
  },
  {
   "cell_type": "raw",
   "id": "822b24e9",
   "metadata": {},
   "source": [
    "import zipfile, io, requests, sys\n",
    "file_name = \"output.zip\"\n",
    "\n",
    "link = \"https://zenodo.org/record/7589871/files/MOSAiC_subset_for_CVL_v2.zip?download=1\"\n",
    "    \n",
    "# Download with progress bar\n",
    "with open(file_name, \"wb\") as f:\n",
    "    print(\"Downloading %s\" % file_name)\n",
    "    response = requests.get(link, stream=True)\n",
    "    total_length = response.headers.get('content-length')\n",
    "\n",
    "    if total_length is None: # no content length header\n",
    "        f.write(response.content)\n",
    "    else:\n",
    "        dl = 0\n",
    "        total_length = int(total_length)\n",
    "        for data in response.iter_content(chunk_size=4096):\n",
    "            dl += len(data)\n",
    "            f.write(data)\n",
    "            done = int(50 * dl / total_length)\n",
    "            sys.stdout.write(\"\\r[%s%s]\" % ('=' * done, ' ' * (50-done)) )    \n",
    "            sys.stdout.flush()\n"
   ]
  },
  {
   "cell_type": "markdown",
   "id": "6f30f7af",
   "metadata": {},
   "source": [
    "## Extract the contents of the ZIP archive"
   ]
  },
  {
   "cell_type": "markdown",
   "id": "f76a71d4-2e98-4e6d-abdf-0ed953af0bbe",
   "metadata": {},
   "source": [
    "*__NOTE__: Make sure the following is a code cell when running playbook. By default it is set to raw nbconvert format, so execution of the cell is skipped.*"
   ]
  },
  {
   "cell_type": "raw",
   "id": "27a8a738",
   "metadata": {},
   "source": [
    "z = zipfile.ZipFile(file_name)\n",
    "z.extractall(\"data\")"
   ]
  },
  {
   "cell_type": "markdown",
   "id": "26dfc39a",
   "metadata": {},
   "source": [
    "#  Load 1D measurements as Geopandas DataFrame\n",
    "Here our approach is to use pandas to load data from the CSV file we obtained earlier. Once the series are loaded we create geopandas data frame object which add geospatial dimension to the series by creating geometry column.\n",
    "\n",
    "Geopandas provides methods for casting the geometry information into the desired coordinate system/projection. Here we use UTM 33N, as it is used in the original CVL 3D viz example notebook."
   ]
  },
  {
   "cell_type": "code",
   "execution_count": 9,
   "id": "39b59282",
   "metadata": {},
   "outputs": [],
   "source": [
    "# Source data contains white spaces in the header, we want to skip them on loading for easier indexing later\n",
    "import pandas\n",
    "df = pandas.read_csv(\"data/transect_latlon.txt\", skipinitialspace=True)"
   ]
  },
  {
   "cell_type": "code",
   "execution_count": 10,
   "id": "dd484fba",
   "metadata": {
    "scrolled": true
   },
   "outputs": [],
   "source": [
    "import geopandas as gpd\n",
    "# Create a geometry aware Geopandas DataFrame object \n",
    "gdf = gpd.GeoDataFrame(\n",
    "    df, geometry=gpd.points_from_xy(df.Lon, df.Lat),\n",
    "    crs=4326\n",
    ").to_crs(32633)"
   ]
  },
  {
   "cell_type": "markdown",
   "id": "43f0f978",
   "metadata": {},
   "source": [
    "# Plot data using 3D Viz\n",
    "\n",
    "Functions below are taken from the original 3D viz example notebook. Alternative would be to generate a geojson object since 3D viz has methods for processing geojson files/objects."
   ]
  },
  {
   "cell_type": "code",
   "execution_count": 11,
   "id": "6adb946d",
   "metadata": {},
   "outputs": [],
   "source": [
    "# This helper function was taken from the 3D Viz example notebook\n",
    "def post_3d_data(key, primitive, vertices, color=None, texcoord=None, normal=None, index=None, texture=None, compute_normals=False):\n",
    "    # metadata = { \"path\" : \"Examples\", \"time_start\" : time.time()-601, \"time_stop\" : time.time()-601 }\n",
    "    metadata = { \"path\" : \"ALS\" }\n",
    "    vbo = VBO(primitive, projection=32633)\n",
    "    vbo.compute_normals = compute_normals\n",
    "    vbo.set_vertex(vertices)\n",
    "    vbo.set_color(color)\n",
    "    vbo.set_texcoord(texcoord)\n",
    "    vbo.set_normal(normal)\n",
    "    vbo.set_index(index)\n",
    "    vbo.texture = texture\n",
    "    visualizer.publish_vbo(key, metadata, vbo)"
   ]
  },
  {
   "cell_type": "code",
   "execution_count": 12,
   "id": "d7156665",
   "metadata": {},
   "outputs": [],
   "source": [
    "# Display transect measurements\n",
    "\n",
    "import numpy as np\n",
    "import math\n",
    "\n",
    "points = np.array([x for x in zip(gdf.geometry.x, gdf.geometry.y, gdf[\"Total thickness (m)\"]) ])\n",
    "colors = np.ones((points.shape[0],4), dtype=np.uint32) * (255, 255, 255, 255)\n",
    "vcolors = np.array([VBO.rgb_to_color(x[0], x[1], x[2], x[3]) for x in colors], dtype=np.uint32)\n",
    "\n",
    "# Post transect data as points to web app\n",
    "post_3d_data(\"Transect points\", \"points\", points, vcolors);"
   ]
  },
  {
   "cell_type": "markdown",
   "id": "df77090a",
   "metadata": {},
   "source": [
    "## Screenshot from 3D Viz with the result\n",
    "\n",
    "Picture below illustrates the results of plotting the transect points data (to access the visualizer open https://cvl.eo.esa.int/). Points have 3 dimensions and when zooming in a difference in height is noticeable.\n",
    "\n",
    "![title](./res/screenshot.png)"
   ]
  },
  {
   "cell_type": "markdown",
   "id": "6e0383e3",
   "metadata": {},
   "source": [
    "# Load Sentinel-1 satellite data\n",
    "\n",
    "Satellite measurements are provided on a irregular grid and come in the shape of a 1D array. To create an image we resample them on the grid using `pyresample` package. Resulting raster array is then added to the CVL 3D Viz."
   ]
  },
  {
   "cell_type": "code",
   "execution_count": 13,
   "id": "7edcd0be",
   "metadata": {},
   "outputs": [],
   "source": [
    "# Load the data and create a regular image grid\n",
    "from pyresample import geometry, image, kd_tree"
   ]
  },
  {
   "cell_type": "code",
   "execution_count": 14,
   "id": "b7b4855d",
   "metadata": {},
   "outputs": [],
   "source": [
    "df = pandas.read_csv(\"data/S1_20200313T114854_intensityHH_latlon.txt\", skipinitialspace=True)\n",
    "data = df[\"Intensity HH (dB)\"].to_numpy()\n",
    "# y dimension was guess by looking at the location of the drops of the monotonously rising longitude values\n",
    "shape = (1763, int(df.Lat.shape[0]/1763))\n",
    "lats = df.Lat.to_numpy().reshape(shape)\n",
    "lons = df.Lon.to_numpy().reshape(shape)\n",
    "data = df[\"Intensity HH (dB)\"].to_numpy().reshape(shape)"
   ]
  },
  {
   "cell_type": "markdown",
   "id": "e8278cb8",
   "metadata": {},
   "source": [
    "## Resampling\n",
    "---\n",
    "\n",
    "We use EPSG 32633 to put geographic coordinates on the regular grid. Grid definition is done by the AreaDefinition object and it takes corner coordinates to define extent. Then data is resampled using gaussian method. Normalized DN values are plotted to illustrate resampling results."
   ]
  },
  {
   "cell_type": "code",
   "execution_count": 16,
   "id": "649c48a7",
   "metadata": {
    "scrolled": true
   },
   "outputs": [
    {
     "name": "stderr",
     "output_type": "stream",
     "text": [
      "/home/yannick/anaconda3/envs/cvl-polona/lib/python3.10/site-packages/pyresample/kd_tree.py:384: UserWarning: Possible more than 8 neighbours within 1000 m for some data points\n",
      "  warnings.warn(('Possible more than %s neighbours '\n"
     ]
    },
    {
     "ename": "NameError",
     "evalue": "name 'res' is not defined",
     "output_type": "error",
     "traceback": [
      "\u001b[0;31m---------------------------------------------------------------------------\u001b[0m",
      "\u001b[0;31mNameError\u001b[0m                                 Traceback (most recent call last)",
      "Cell \u001b[0;32mIn [16], line 16\u001b[0m\n\u001b[1;32m      6\u001b[0m area_def \u001b[38;5;241m=\u001b[39m geometry\u001b[38;5;241m.\u001b[39mAreaDefinition\u001b[38;5;241m.\u001b[39mfrom_extent(\n\u001b[1;32m      7\u001b[0m     \u001b[38;5;124m\"\u001b[39m\u001b[38;5;124mALS\u001b[39m\u001b[38;5;124m\"\u001b[39m,\n\u001b[1;32m      8\u001b[0m     \u001b[38;5;241m32633\u001b[39m,\n\u001b[0;32m   (...)\u001b[0m\n\u001b[1;32m     13\u001b[0m     )\n\u001b[1;32m     14\u001b[0m )\n\u001b[1;32m     15\u001b[0m data_res \u001b[38;5;241m=\u001b[39m kd_tree\u001b[38;5;241m.\u001b[39mresample_gauss(swath_def, data\u001b[38;5;241m.\u001b[39mravel(), area_def, radius_of_influence\u001b[38;5;241m=\u001b[39m\u001b[38;5;241m1000\u001b[39m, sigmas\u001b[38;5;241m=\u001b[39m\u001b[38;5;241m5\u001b[39m)\n\u001b[0;32m---> 16\u001b[0m plt\u001b[38;5;241m.\u001b[39mimshow((\u001b[43mres\u001b[49m\u001b[38;5;241m-\u001b[39mres\u001b[38;5;241m.\u001b[39mmin())\u001b[38;5;241m/\u001b[39m(res\u001b[38;5;241m.\u001b[39mmax()\u001b[38;5;241m-\u001b[39mres\u001b[38;5;241m.\u001b[39mmin()), origin\u001b[38;5;241m=\u001b[39m\u001b[38;5;124m'\u001b[39m\u001b[38;5;124mlower\u001b[39m\u001b[38;5;124m'\u001b[39m); plt\u001b[38;5;241m.\u001b[39mcolorbar()\n",
      "\u001b[0;31mNameError\u001b[0m: name 'res' is not defined"
     ]
    }
   ],
   "source": [
    "import matplotlib.pyplot as plt\n",
    "from pyproj import CRS, Transformer\n",
    "transformer = Transformer.from_crs(4326, 32633, always_xy=True)\n",
    "lonx, latx = transformer.transform(lons, lats)\n",
    "swath_def = geometry.SwathDefinition(lats=lats.ravel(), lons=lons.ravel())\n",
    "area_def = geometry.AreaDefinition.from_extent(\n",
    "    \"ALS\",\n",
    "    32633,\n",
    "    (2000,2000),\n",
    "    (\n",
    "        lonx[0,0], latx[0,0],\n",
    "        lonx[1762,1958], latx[1762,1958]\n",
    "    )\n",
    ")\n",
    "data_res = kd_tree.resample_gauss(swath_def, data.ravel(), area_def, radius_of_influence=1000, sigmas=5)\n",
    "plt.imshow((res-res.min())/(res.max()-res.min()), origin='lower'); plt.colorbar()\n"
   ]
  },
  {
   "cell_type": "code",
   "execution_count": 512,
   "id": "e2c2dca4",
   "metadata": {},
   "outputs": [],
   "source": [
    "# Convert numpy array to binary image\n",
    "from PIL import Image\n",
    "# Normalize and scale to 255 before saving\n",
    "im = Image.fromarray(np.uint8((res-res.min())/(res.max()-res.min())*255))\n",
    "im.save(\"res/out.png\")"
   ]
  },
  {
   "cell_type": "markdown",
   "id": "cf4edf2f",
   "metadata": {},
   "source": [
    "# Add projected Sentinel-1 data as transect background"
   ]
  },
  {
   "cell_type": "code",
   "execution_count": 513,
   "id": "b023f3e9",
   "metadata": {},
   "outputs": [],
   "source": [
    "# Define image boundaries\n",
    "points[0] = [area_def.projection_x_coords[0], area_def.projection_y_coords[0]] \n",
    "points[1] = [area_def.projection_x_coords[-1], area_def.projection_y_coords[0]]\n",
    "points[2] = [area_def.projection_x_coords[0], area_def.projection_y_coords[-1]]\n",
    "points[3] = [area_def.projection_x_coords[-1], area_def.projection_y_coords[-1]]\n",
    "\n",
    "# Load raster data\n",
    "with open(\"res/out.png\", \"rb\") as fd:\n",
    "    texture = fd.read()\n",
    "\n",
    "raster = Raster(points, [2,2], 32633, image_data=texture)\n",
    "metadata = { \"path\" : \"ALS\" }\n",
    "visualizer.publish_raster(\"Test image\", metadata, raster)"
   ]
  },
  {
   "cell_type": "markdown",
   "id": "f209d8d3",
   "metadata": {},
   "source": [
    "## Below is a 3D Viz view of tilted canvas with transect measurements overlayed over Sentinel 1 scene"
   ]
  },
  {
   "cell_type": "markdown",
   "id": "85307ff8",
   "metadata": {},
   "source": [
    "![s1-transect.png](res/s1-transect.png)"
   ]
  },
  {
   "cell_type": "markdown",
   "id": "ce007ea6",
   "metadata": {},
   "source": [
    "# Conclusions\n",
    "CVL 3D viz is a powerful tool for combining different types of observations and can be used to explore in-situ measurements in 3D view overlayed over large scale 2D imagery.\n"
   ]
  },
  {
   "cell_type": "markdown",
   "id": "4c847846",
   "metadata": {},
   "source": [
    "# Suggestion\n",
    "The whole process of plotting 2d observations on regular or irregular grid could be combined in one helper function that would do the resampling and send results to the 3D Viz instance. The process would include the following steps:\n",
    "\n",
    "1. Load data\n",
    "1. Project to coordinate reference system of choice\n",
    "1. Define image boundaries for interpolation on 3D Viz canvas\n",
    "1. Send image and metadata to 3D viz\n"
   ]
  }
 ],
 "metadata": {
  "kernelspec": {
   "display_name": "Python 3 (ipykernel)",
   "language": "python",
   "name": "python3"
  },
  "language_info": {
   "codemirror_mode": {
    "name": "ipython",
    "version": 3
   },
   "file_extension": ".py",
   "mimetype": "text/x-python",
   "name": "python",
   "nbconvert_exporter": "python",
   "pygments_lexer": "ipython3",
   "version": "3.10.6"
  }
 },
 "nbformat": 4,
 "nbformat_minor": 5
}
