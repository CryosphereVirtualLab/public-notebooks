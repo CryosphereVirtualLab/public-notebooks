{
 "cells": [
  {
   "cell_type": "markdown",
   "id": "49679b71-9db6-4cfc-8455-e2cb9972d316",
   "metadata": {},
   "source": [
    "## Search for overlapping Sentinel-1 (SAR) and Sentinel-2 (optical) imagery."
   ]
  },
  {
   "cell_type": "markdown",
   "id": "3a6bf914-2cb9-4ccf-84ee-ebf82f7a31e1",
   "metadata": {},
   "source": [
    "This notebook searches for overlapping Sentinel-1 (EW GRDM) and Sentinel-2 (L1C) products. The search is implemented using the 'sentinelSAT' module, which is a powerful search API for the Copernicus Scihub database (https://sentinelsat.readthedocs.io/en/latest/api_overview.html).\n",
    "\n",
    "**Requirements to run this script:**\n",
    "1) have a user account on Copernicus Open Access Hub (Scihub): https://scihub.copernicus.eu/dhus/#/home\n",
    "2) create a file named '.env' in the directory _'S1_ice_water_classification'_. In this file, save your username and password for Copernicus SciHub in exactly this format:\n",
    "\n",
    "> DHUS_USER=\"scihub_username\" <br>\n",
    "> DHUS_PASSWORD=\"scihub_password\"\n",
    "\n",
    "_**NOTE**: it is strongly recommended to add the .env file to the .gitignore, to avoid pushing your credentials to a public repository!_\n",
    "\n",
    "---\n"
   ]
  },
  {
   "cell_type": "markdown",
   "id": "47b40963-f924-4b4b-a5a5-9bc8fa0837bb",
   "metadata": {},
   "source": [
    "#### Import some packages needed to run this code"
   ]
  },
  {
   "cell_type": "code",
   "execution_count": 1,
   "id": "b58a4e61-67e4-48fd-9bab-3b6319524880",
   "metadata": {},
   "outputs": [],
   "source": [
    "from sentinelsat import SentinelAPI, read_geojson, geojson_to_wkt\n",
    "from dateparser import parse\n",
    "import datetime\n",
    "from pathlib import Path\n",
    "from dotenv import load_dotenv\n",
    "from loguru import logger\n",
    "import os"
   ]
  },
  {
   "cell_type": "markdown",
   "id": "af160638-af91-4dd6-9e04-0529578d57c9",
   "metadata": {},
   "source": [
    "#### Load environment variables from .env file, containing username and password for Copernicus Scihub"
   ]
  },
  {
   "cell_type": "code",
   "execution_count": 2,
   "id": "39747ddd-229f-49ad-a252-6573f1d8e877",
   "metadata": {},
   "outputs": [],
   "source": [
    "load_dotenv()\n",
    "    \n",
    "try:\n",
    "    os.environ[\"DHUS_USER\"]\n",
    "except:\n",
    "    logger.error(\"The environment variable 'DHUS_USER' is not set! Exiting...\")\n",
    "    raise KeyError(\"The environment variable 'DHUS_USER' is not set!\")\n",
    "\n",
    "try:\n",
    "    os.environ[\"DHUS_PASSWORD\"]\n",
    "except:\n",
    "    logger.error(\"The environment variable 'DHUS_PASSWORD' is not set! Exiting...\")\n",
    "    raise KeyError(\"The environment variable 'DHUS_PASSWORD' is not set!\")\n"
   ]
  },
  {
   "cell_type": "markdown",
   "id": "79036508-eafd-40d0-baf4-cc863e0b9c05",
   "metadata": {},
   "source": [
    "#### Establish the connection to Copernicus Scihub"
   ]
  },
  {
   "cell_type": "code",
   "execution_count": 3,
   "id": "3be7a9f4-246c-4308-94cf-9d314b188757",
   "metadata": {},
   "outputs": [],
   "source": [
    "api = SentinelAPI(os.environ[\"DHUS_USER\"], os.environ[\"DHUS_PASSWORD\"])"
   ]
  },
  {
   "cell_type": "markdown",
   "id": "a415ba6c-d05d-4176-8bcd-1516c0974c89",
   "metadata": {},
   "source": [
    "#### Determine search criteria for Sentinel-1 imagery and perform search\n",
    "The search for Sentinel-1 imagery is performed over a user-defined region of interest (ROI). Two example ROIs are given in the _ROIs_ folder, and the 'Barents_Sea.geojson' ROI is used in this script.\n",
    "\n",
    "We narrow the search down by the following criteria:\n",
    "1) area: the search polygon (ROI), saved as GEOjson file\n",
    "2) time: start- and endtime\n",
    "3) platform: Sentinel-1\n",
    "4) product type: GRD\n",
    "5) area relation: 'contain'. This means that only products where the search area is entirely WITHIN the footprint of the S1 will be returned.\n",
    "\n",
    "To create your own custom ROI, nagivate to : https://geojson.io/ and draw a point or polygon of your choice. Then, save the result in GEOjson file format. Upload it to the notebook and give the path to the new file in the variable _area_ (see below).\n",
    "\n",
    "The query returns a dictionary _s1_products_, which contains all results that match our search criteria."
   ]
  },
  {
   "cell_type": "code",
   "execution_count": 4,
   "id": "9338397b-7c04-4064-bc7a-96b1bc33d1ed",
   "metadata": {},
   "outputs": [],
   "source": [
    "# DEFINE SEARCH PARAMETERS FOR S1\n",
    "\n",
    "# use custom geojson files containing search polygon\n",
    "area = './ROIs/Barents_Sea.geojson'\n",
    "polygon_path = Path(area).expanduser().absolute()\n",
    "\n",
    "# set start- and endtime for search\n",
    "starttime = \"2020-01-01\"\n",
    "endtime = \"2020-04-01\"\n",
    "\n",
    "# area relation for S1, 'Contains' returns all hits where the ROI polygon is entirely WITHIN the footprint of the S1\n",
    "s1_area_relation = 'Contains'\n",
    "    \n",
    "starttime = parse(starttime, settings={\"DATE_ORDER\": \"YMD\"})\n",
    "endtime = parse(endtime, settings={\"DATE_ORDER\": \"YMD\"})\n",
    "\n",
    "# -------------------------------------------------------------------------------------------------------------------\n",
    "# PERFORM SEARCH\n",
    "\n",
    "# query for S1 products that match our search criteria\n",
    "s1_products = api.query(\n",
    "                geojson_to_wkt(read_geojson(polygon_path)),\n",
    "                date=(starttime, endtime),\n",
    "                platformname=\"Sentinel-1\",\n",
    "                producttype=\"GRD\",\n",
    "                area_relation=s1_area_relation,\n",
    "                )"
   ]
  },
  {
   "cell_type": "markdown",
   "id": "0887f6a1-36d8-44e3-b4b6-a1b151790a5b",
   "metadata": {},
   "source": [
    "#### Search for overlapping optical data from Sentinel-2 (L1C)\n",
    "In this step, we look for Sentinel-2 L1C products that overlap with the S1 scenes found in the first search. \n",
    "\n",
    "We enter the following search criteria:\n",
    "1) area: the same ROI as for the S1 search, because we are searching for spatial overlap!\n",
    "2) time: images taken _x_ hours before or after the S1 image acquisition (set in 'max_n_hours' variable)\n",
    "3) platform: Sentinel-2\n",
    "4) processing level: Level-1C\n",
    "5) area relation: 'intersect'. This will return all hits where the ROI intersects with the S2 footprint. We choose intersect here, because S2 images have a much smaller footprint than S1.\n",
    "6) cloud cover: cloud cover range in percentage, given as tuple\n",
    "\n",
    "This output of this second search is a dictionary called _s1_s2_overlap_, which contains all S1 product names of the first search that have overlapping S2 images. The dictionary has as keys S1 product names, and as values the corresponding overlapping S2 product name(s).\n"
   ]
  },
  {
   "cell_type": "code",
   "execution_count": null,
   "id": "108b61fb-110c-4538-a069-6bb7a216e05e",
   "metadata": {},
   "outputs": [],
   "source": [
    "# DEFINE SEARCH PARAMETERS FOR S2\n",
    "\n",
    "# define maximum time difference between S1 and S2 image acquisitions\n",
    "max_n_hours = 8\n",
    "timedelta = datetime.timedelta(hours = max_n_hours) \n",
    "\n",
    "# define cloud cover percentage range\n",
    "cloudcover = (0, 30)\n",
    "\n",
    "# area relation for S2, 'intersects' returns all hits where the ROI polygon INTERSECTS with the S1 footprint\n",
    "s2_area_relation = 'Intersects'\n",
    "\n",
    "# -------------------------------------------------------------------------------------------------------------------\n",
    "# PERFORM SEARCH\n",
    "\n",
    "# create empty dictionary that will contain S1 identifiers as keys, and the overlapping S2 identifier(s) as values\n",
    "s1_s2_overlap = {}\n",
    "\n",
    "# iterate over query results to check for overlapping S2\n",
    "for product in s1_products:\n",
    "\n",
    "    # retrieve identifier and timestamp of the S1 product\n",
    "    s1_identifier = s1_products[product]['identifier']\n",
    "    s1_timestamp = s1_products[product]['beginposition']\n",
    "\n",
    "    # look for S2 imagery taken x hours before or after S1 acquisition\n",
    "    s2_starttime = s1_timestamp - timedelta\n",
    "    s2_endtime = s1_timestamp + timedelta\n",
    "\n",
    "    # area relation for S2, 'intersects' returns all hits where the ROI polygon INTERSECTS with the S1 footprint\n",
    "    s2_area_relation = 'Intersects'\n",
    "\n",
    "    # query for overlapping Sentinel-2 optical images\n",
    "    s2_products = api.query(\n",
    "                        area = geojson_to_wkt(read_geojson(polygon_path)),\n",
    "                        date = (s2_starttime, s2_endtime),\n",
    "                        platformname=\"Sentinel-2\",\n",
    "                        processinglevel=\"Level-1C\",\n",
    "                        cloudcoverpercentage=cloudcover,\n",
    "                        area_relation=s2_area_relation,\n",
    "                        )\n",
    "    \n",
    "    # if overlapping S2 scenes found, add the S1 id and corresponding S2 query results in dictionary\n",
    "    if not len(s2_products) == 0:\n",
    "        s2_id_list = []\n",
    "        \n",
    "        # loop over S2 search results and extract S2 product identifier\n",
    "        for s2product in s2_products:\n",
    "            s2_identifier = s2_products[s2product]['identifier']\n",
    "            s2_id_list.append(s2_identifier)\n",
    "        s1_s2_overlap[s1_identifier] = s2_id_list\n",
    "            \n",
    "print('Found', len(s1_s2_overlap), 'S1 scenes with overlapping S2 imagery.')"
   ]
  },
  {
   "cell_type": "markdown",
   "id": "0beb8da9-1f0a-42cb-8a78-a072f8a7b51c",
   "metadata": {},
   "source": [
    "#### Save search results to text files \n",
    "The search results from the _s1_s2_overlap_ dictionary are saved in text files, under the folder _search_results_. A seperate text file is created for each S1 product and the corresponding overlapping S2 products. The text files are named after the S1 product name, the content of the file is the overlapping S2 product names."
   ]
  },
  {
   "cell_type": "code",
   "execution_count": null,
   "id": "66ee3a12-52fb-4b08-80bf-b9f227d9d454",
   "metadata": {},
   "outputs": [],
   "source": [
    "# save dictionary results to text files, these text files can then be used to download the S1 and S2 products on e.g. Creodias\n",
    "for key, value in s1_s2_overlap.items(): \n",
    "    with open(f\"./search_results/{key}.txt\", 'w') as f:\n",
    "        f.write('\\n'.join(value))"
   ]
  }
 ],
 "metadata": {
  "kernelspec": {
   "display_name": "Python 3 (ipykernel)",
   "language": "python",
   "name": "python3"
  },
  "language_info": {
   "codemirror_mode": {
    "name": "ipython",
    "version": 3
   },
   "file_extension": ".py",
   "mimetype": "text/x-python",
   "name": "python",
   "nbconvert_exporter": "python",
   "pygments_lexer": "ipython3",
   "version": "3.10.6"
  }
 },
 "nbformat": 4,
 "nbformat_minor": 5
}
