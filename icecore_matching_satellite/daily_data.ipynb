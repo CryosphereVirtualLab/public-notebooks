{
 "cells": [
  {
   "cell_type": "markdown",
   "id": "4b6cdf7b",
   "metadata": {},
   "source": [
    "# Mean Daily Ice Surface Temperature"
   ]
  },
  {
   "cell_type": "markdown",
   "id": "2a2db99e",
   "metadata": {},
   "source": [
    "Download all the .nc files from below links with considering necessary filters of Date and Area\n",
    "\n",
    "https://cvl.eo.esa.int/metsis/search?search_api_fulltext_op=and&fulltext=greenland+temperatur&start_date=&end_date=&is_parent=All&platform_ancillary_cloud_coverage=All&f%5B0%5D=dataset_level%3ALevel-1\n",
    "\n",
    "https://nsidc.org/data/modgrnld/versions/1\n",
    "\n",
    "chose NASA search tool\n",
    "\n",
    "filter by time and area and (online available data only)\n",
    "\n",
    "then use the \"Simple mass downloader\" Addon of Chrome to download all the necessary files to local drive\n",
    "\n",
    "Give the local path in below cell"
   ]
  },
  {
   "cell_type": "code",
   "execution_count": 1,
   "id": "e3cd0550",
   "metadata": {},
   "outputs": [],
   "source": [
    "path = 'D://NC_files//**.nc'"
   ]
  },
  {
   "cell_type": "code",
   "execution_count": 2,
   "id": "cbf16717",
   "metadata": {},
   "outputs": [],
   "source": [
    "\n",
    "import matplotlib.pyplot as plt\n",
    "import numpy as np\n",
    "import pandas as pd \n",
    "import netCDF4 as nc\n",
    "from glob import glob\n"
   ]
  },
  {
   "cell_type": "code",
   "execution_count": 3,
   "id": "7ba48887",
   "metadata": {},
   "outputs": [],
   "source": [
    "def find_date(ds):\n",
    "    # This functions reads the data_date\n",
    "    date = None\n",
    "    for var in ds.variables.values():\n",
    "        data_date = var.data_date\n",
    "        assert date == None or data_date == date , 'Date Missmatch in data package for day {}'.format(data_date)\n",
    "        date = data_date\n",
    "    return date"
   ]
  },
  {
   "cell_type": "code",
   "execution_count": 4,
   "id": "59b0b9e7",
   "metadata": {},
   "outputs": [],
   "source": [
    "def get_data(ds):\n",
    "    #This function returns a Pandas dataframe from the daily average values of each feature\n",
    "    df = pd.DataFrame()\n",
    "    df ['Date'] = [find_date(ds)]\n",
    "    df['Ice_Surface_Temperature_Mean'] = [np.mean(ds['Ice_Surface_Temperature_Mean'][0, :, :])]\n",
    "    df['Ice_Surface_Temperature_Melt_NoMelt'] = [np.mean(ds['Ice_Surface_Temperature_Melt_NoMelt'][0, :, :])]\n",
    "    df['Albedo'] = [np.mean(ds['Albedo'][0, :, :])]\n",
    "    df['Water_Vapor_Near_Infrared_Mean'] = [np.mean(ds['Water_Vapor_Near_Infrared_Mean'][0, :, :])]\n",
    "    df['NSwaths_and_Hour_Tracker'] = [np.mean(ds['NSwaths_and_Hour_Tracker'][0, :, :])]\n",
    "    return df\n",
    "\n",
    "    "
   ]
  },
  {
   "cell_type": "code",
   "execution_count": 5,
   "id": "7bf65a2f",
   "metadata": {},
   "outputs": [
    {
     "name": "stdout",
     "output_type": "stream",
     "text": [
      "There are 1462 [.nc] files\n"
     ]
    }
   ],
   "source": [
    "\n",
    "files = glob(path)\n",
    "print ('There are {} [.nc] files'.format(len(files)))"
   ]
  },
  {
   "cell_type": "code",
   "execution_count": 6,
   "id": "8c2dbc50",
   "metadata": {},
   "outputs": [
    {
     "data": {
      "text/html": [
       "<div>\n",
       "<style scoped>\n",
       "    .dataframe tbody tr th:only-of-type {\n",
       "        vertical-align: middle;\n",
       "    }\n",
       "\n",
       "    .dataframe tbody tr th {\n",
       "        vertical-align: top;\n",
       "    }\n",
       "\n",
       "    .dataframe thead th {\n",
       "        text-align: right;\n",
       "    }\n",
       "</style>\n",
       "<table border=\"1\" class=\"dataframe\">\n",
       "  <thead>\n",
       "    <tr style=\"text-align: right;\">\n",
       "      <th></th>\n",
       "      <th>Date</th>\n",
       "      <th>Ice_Surface_Temperature_Mean</th>\n",
       "      <th>Ice_Surface_Temperature_Melt_NoMelt</th>\n",
       "      <th>Albedo</th>\n",
       "      <th>Water_Vapor_Near_Infrared_Mean</th>\n",
       "      <th>NSwaths_and_Hour_Tracker</th>\n",
       "    </tr>\n",
       "  </thead>\n",
       "  <tbody>\n",
       "    <tr>\n",
       "      <th>0</th>\n",
       "      <td>2011-05-17</td>\n",
       "      <td>177.921143</td>\n",
       "      <td>19.981489</td>\n",
       "      <td>120.932588</td>\n",
       "      <td>0.528040</td>\n",
       "      <td>4.443885e+07</td>\n",
       "    </tr>\n",
       "    <tr>\n",
       "      <th>1</th>\n",
       "      <td>2011-05-18</td>\n",
       "      <td>177.252090</td>\n",
       "      <td>19.896570</td>\n",
       "      <td>121.026815</td>\n",
       "      <td>0.472696</td>\n",
       "      <td>4.549297e+07</td>\n",
       "    </tr>\n",
       "    <tr>\n",
       "      <th>2</th>\n",
       "      <td>2011-05-19</td>\n",
       "      <td>175.649979</td>\n",
       "      <td>20.297530</td>\n",
       "      <td>121.868638</td>\n",
       "      <td>0.494886</td>\n",
       "      <td>4.748086e+07</td>\n",
       "    </tr>\n",
       "    <tr>\n",
       "      <th>3</th>\n",
       "      <td>2011-05-20</td>\n",
       "      <td>176.409454</td>\n",
       "      <td>20.053332</td>\n",
       "      <td>123.472787</td>\n",
       "      <td>0.499137</td>\n",
       "      <td>3.413768e+07</td>\n",
       "    </tr>\n",
       "    <tr>\n",
       "      <th>4</th>\n",
       "      <td>2011-05-21</td>\n",
       "      <td>181.289764</td>\n",
       "      <td>18.993241</td>\n",
       "      <td>122.114159</td>\n",
       "      <td>0.473738</td>\n",
       "      <td>4.343364e+07</td>\n",
       "    </tr>\n",
       "  </tbody>\n",
       "</table>\n",
       "</div>"
      ],
      "text/plain": [
       "         Date  Ice_Surface_Temperature_Mean  \\\n",
       "0  2011-05-17                    177.921143   \n",
       "1  2011-05-18                    177.252090   \n",
       "2  2011-05-19                    175.649979   \n",
       "3  2011-05-20                    176.409454   \n",
       "4  2011-05-21                    181.289764   \n",
       "\n",
       "   Ice_Surface_Temperature_Melt_NoMelt      Albedo  \\\n",
       "0                            19.981489  120.932588   \n",
       "1                            19.896570  121.026815   \n",
       "2                            20.297530  121.868638   \n",
       "3                            20.053332  123.472787   \n",
       "4                            18.993241  122.114159   \n",
       "\n",
       "   Water_Vapor_Near_Infrared_Mean  NSwaths_and_Hour_Tracker  \n",
       "0                        0.528040              4.443885e+07  \n",
       "1                        0.472696              4.549297e+07  \n",
       "2                        0.494886              4.748086e+07  \n",
       "3                        0.499137              3.413768e+07  \n",
       "4                        0.473738              4.343364e+07  "
      ]
     },
     "execution_count": 6,
     "metadata": {},
     "output_type": "execute_result"
    }
   ],
   "source": [
    "#Generating the output table with taking the first file\n",
    "output = get_data(nc.Dataset(files[0]))\n",
    "\n",
    "for file in files[1:]:\n",
    "    new_df = get_data(nc.Dataset(file))\n",
    "    output = pd.concat([output, new_df], ignore_index=True,axis=0)\n",
    "output.head()\n",
    "\n",
    "    "
   ]
  },
  {
   "cell_type": "code",
   "execution_count": 7,
   "id": "f8c3af84",
   "metadata": {},
   "outputs": [],
   "source": [
    "output.to_csv('Daily_data.csv')"
   ]
  },
  {
   "cell_type": "code",
   "execution_count": null,
   "id": "bf1329d7",
   "metadata": {},
   "outputs": [],
   "source": []
  },
  {
   "cell_type": "code",
   "execution_count": null,
   "id": "a0a43595",
   "metadata": {},
   "outputs": [],
   "source": []
  }
 ],
 "metadata": {
  "kernelspec": {
   "display_name": "Python 3 (ipykernel)",
   "language": "python",
   "name": "python3"
  },
  "language_info": {
   "codemirror_mode": {
    "name": "ipython",
    "version": 3
   },
   "file_extension": ".py",
   "mimetype": "text/x-python",
   "name": "python",
   "nbconvert_exporter": "python",
   "pygments_lexer": "ipython3",
   "version": "3.10.4"
  }
 },
 "nbformat": 4,
 "nbformat_minor": 5
}
